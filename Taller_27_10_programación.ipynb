{
  "nbformat": 4,
  "nbformat_minor": 0,
  "metadata": {
    "colab": {
      "provenance": []
    },
    "kernelspec": {
      "name": "python3",
      "display_name": "Python 3"
    },
    "language_info": {
      "name": "python"
    }
  },
  "cells": [
    {
      "cell_type": "markdown",
      "source": [
        "Escribir un programa que pregunte al usuario su nombre, edad, dirección y teléfono, guarde la información en un diccionario.\n",
        " Después debe mostrar por pantalla el mensaje:\n",
        "<nombre> tiene <edad> años, vive en <dirección> y su número de teléfono es <teléfono>."
      ],
      "metadata": {
        "id": "MwL17810tZmp"
      }
    },
    {
      "cell_type": "code",
      "execution_count": null,
      "metadata": {
        "id": "SgawfXJwtShb"
      },
      "outputs": [],
      "source": [
        "nombre=\"nombre\"\n",
        "edad=\"edad\"\n",
        "direccion=\"direccion\"\n",
        "celular=\"celular\"\n",
        "nom=input(\"¿Como es su nombre?\")\n",
        "ed=input(\"¿cuantos años tiene?\")\n",
        "dir=input(\"¿cual es su dirección?\")\n",
        "cel=input(\"¿Cual es su numero de telefono?\")\n",
        "a={nombre:nom, edad:ed, direccion:dir, celular:cel}\n",
        "print(a)\n",
        "print(nom,\"tiene\",ed,\"años,vive en\",dir,\"y su numero de telefono es\",cel,)"
      ]
    },
    {
      "cell_type": "markdown",
      "source": [
        "2.  Escribir un programa que pregunte una fecha actual y de nacimiento ‘dd/mm/aaaa’ y muestre por pantalla la misma fecha en formato “dia/mes/aaaa” y sus días de vida son <####>\n",
        "no tenga en cuenta años bisiestos, \n"
      ],
      "metadata": {
        "id": "BW3FJHc0uKT2"
      }
    },
    {
      "cell_type": "code",
      "source": [
        "fecha = [int(elemento) for elemento in input(\"Introduzca la fecha actual separando cada dato por un slash '/' \").split(\"/\")]\n",
        "nacimiento = [int(elemento) for elemento in input(\"Ingrese la fecha de nacimiento \").split(\"/\")]\n",
        "if fecha[0]<31 or fecha[1]<12:\n",
        "  año_dias = (fecha[2] - nacimiento[2])*365\n",
        "  if fecha[1] == 1:\n",
        "    dias = año_dias + 31 - nacimiento[1]*30 + fecha[0] - nacimiento[0]\n",
        "  elif fecha[1] == 2:\n",
        "    dias = año_dias + 59 - nacimiento[1]*30 + fecha[0] - nacimiento[0] #el número entero es la suma de los días que hay en cada mes\n",
        "  elif fecha[1] == 3 or 4:\n",
        "    dias = año_dias + fecha[1]*30 - nacimiento[1]*30 + fecha[0] - nacimiento[0] #Al  promediar los días que hay en el mes 3 y 4 nos da 30 \n",
        "  elif fecha[1] == 5:\n",
        "    dias = año_dias + 151 - nacimiento[1]*30 + fecha[0] - nacimiento[0] \n",
        "  elif fecha[1] == 6:\n",
        "    dias = año_dias + 181 - nacimiento[1]*30 + fecha[0] - nacimiento[0]\n",
        "  elif fecha[1] == 7:\n",
        "    dias = año_dias + 212 - nacimiento[1]*30 + fecha[0] - nacimiento[0]\n",
        "  elif fecha[1] == 8:\n",
        "    dias = año_dias + 243 - nacimiento[1]*30 + fecha[0] - nacimiento[0]\n",
        "  elif fecha[1] == 9:\n",
        "    dias = año_dias + 273 - nacimiento[1]*30 + fecha[0] - nacimiento[0]\n",
        "  elif fecha[1] == 10:\n",
        "    dias = año_dias + 304 - nacimiento[1]*30 + fecha[0] - nacimiento[0]\n",
        "  elif fecha[1] == 11:\n",
        "    dias = año_dias + 334 - nacimiento[1]*30 + fecha[0] - nacimiento[0]\n",
        "  elif fecha[1] == 12:\n",
        "    dias = año_dias + 365 - nacimiento[1]*30 + fecha[0] - nacimiento[0]\n",
        "else:\n",
        "  print(\"el número digitado no esta disponible\")\n",
        "print(f\"La fecha actual es {fecha[0]}/{fecha[1]}/{fecha[2]} y usted tiene {dias} dias\")"
      ],
      "metadata": {
        "colab": {
          "base_uri": "https://localhost:8080/"
        },
        "id": "ugji-AbruNRG",
        "outputId": "c440e8dd-4922-4fd3-c508-98919f90cb32"
      },
      "execution_count": 1,
      "outputs": [
        {
          "output_type": "stream",
          "name": "stdout",
          "text": [
            "Introduzca la fecha actual separando cada dato por un slash '/' 27/10/2022\n",
            "Ingrese la fecha de nacimiento 02/11/2004\n",
            "La fecha actual es 27/10/2022 y usted tiene 6565 dias\n"
          ]
        }
      ]
    },
    {
      "cell_type": "markdown",
      "source": [
        "Escribir un programa que administre un dictado de dictados, {1:{},2:{},,,,,,,#:{}}.\n",
        "Debe preguntar a cada usuario, tres datos (los que definan), y a partir de estos crear un dictado por usuario.\n",
        "El dictado será de esta manera:\n",
        "La clave será un entero respectivo al orden en que el usuario ingresa los datos.\n",
        "El valor será un dictado con los tres datos del usuario elegidos.\n",
        "{‘dato1’:857,‘dato2’:True,‘dato3’:’dffd’}\n",
        "Ejemplo:\n",
        "{0:{‘dato1’:857,‘dato2’:True,‘dato3’:’dffd’},1:{‘dato1’:857,‘dato2’:True,‘dato3’:’dffd’},,,,,,,30:{}}\n",
        "Al final el programa imprimirá el primer(mínimo) usuario y el último(máximo) usuario con sus respectivos datos.\n"
      ],
      "metadata": {
        "id": "FC9wHrNe4TZT"
      }
    },
    {
      "cell_type": "code",
      "source": [
        "# Intento de base de datos de un banco\n",
        "dicc={}\n",
        "r=\"yes\"\n",
        "while r!=\"no\": \n",
        "  usuario=int(input(\"¿Cual es el numero de usuario? \")) \n",
        "  dicc2={}\n",
        "  numero=int(input(\"Ingrese su numero de cuenta de ahorros: \")) \n",
        "  dicc2[\"dato 1 (Cuenta de ahorros)\"]=numero\n",
        "  booleano=bool(input(\"¿Este usuario esta reportado en datacredito? ponga 'True' o 'False': \")) \n",
        "  dicc2[\"dato 2 (¿reportado?) \"]=booleano\n",
        "  string=(input(\"¿Como es el nombre del usuario?\")) \n",
        "  dicc2[\"dato 3(nombre) \"]=string\n",
        "  dicc[usuario]=dicc2\n",
        "  r=str(input(\"Si quiere ingresar un nuevo usuario escriba (yes) de lo contrario escriba (no)\"))\n",
        "x,i=min(dicc),max(dicc)\n",
        "print(f\"\\nMin Usuario:{x}:{dicc[x]}\")\n",
        "print(f\"\\nMax Usuario:{i}:{dicc[i]}\")"
      ],
      "metadata": {
        "colab": {
          "base_uri": "https://localhost:8080/"
        },
        "id": "nuOQASN94UTU",
        "outputId": "367586d5-0c60-45a2-935b-e98f4e035dad"
      },
      "execution_count": 13,
      "outputs": [
        {
          "output_type": "stream",
          "name": "stdout",
          "text": [
            "¿Cual es el numero de usuario? 14\n",
            "Ingrese su numero de cuenta de ahorros: 434258235\n",
            "¿Este usuario esta reportado en datacredito? ponga 'True' o 'False': True\n",
            "¿Como es el nombre del usuario?Lorena\n",
            "Si quiere ingresar un nuevo usuario escriba (yes) de lo contrario escriba (no)yes\n",
            "¿Cual es el numero de usuario? 74\n",
            "Ingrese su numero de cuenta de ahorros: 7324739423\n",
            "¿Este usuario esta reportado en datacredito? ponga 'True' o 'False': False\n",
            "¿Como es el nombre del usuario?pablo\n",
            "Si quiere ingresar un nuevo usuario escriba (yes) de lo contrario escriba (no)no\n",
            "\n",
            "Min Usuario:14:{'dato 1 (Cuenta de ahorros)': 434258235, 'dato 2 (reportado) ': True, 'dato 3(nombre) ': 'Lorena'}\n",
            "\n",
            "Max Usuario:74:{'dato 1 (Cuenta de ahorros)': 7324739423, 'dato 2 (reportado) ': True, 'dato 3(nombre) ': 'pablo'}\n"
          ]
        }
      ]
    }
  ]
}