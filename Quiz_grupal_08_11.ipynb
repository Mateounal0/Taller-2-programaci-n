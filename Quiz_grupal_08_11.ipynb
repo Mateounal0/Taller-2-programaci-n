{
  "nbformat": 4,
  "nbformat_minor": 0,
  "metadata": {
    "colab": {
      "provenance": []
    },
    "kernelspec": {
      "name": "python3",
      "display_name": "Python 3"
    },
    "language_info": {
      "name": "python"
    }
  },
  "cells": [
    {
      "cell_type": "code",
      "source": [
        "import json\n",
        "import requests\n",
        "from pprint import pprint\n",
        "response = requests.get(\"https://fp.josedomingo.org/lmgs/u05/ej2.json\")\n",
        "pendientes=json.loads(response.text)\n",
        "lista1 = []\n",
        "suma = 0\n",
        "#cuantas pruebas estan descrita en el documento\n",
        "def idiomas():\n",
        "  \n",
        "  response = requests.get(\"https://fp.josedomingo.org/lmgs/u05/ej2.json\")\n",
        "  pendientes=json.loads(response.text)\n",
        "  for i in pendientes:\n",
        "     if i.get(\"Titulo\") == True:\n",
        "       lista1.append(i)\n",
        "       pendientes.count(i)\n",
        "     tamaño = len(pendientes)\n",
        "  pprint(f\"Hay {tamaño} pruebas de idioma\")\n",
        "idiomas()\n"
      ],
      "metadata": {
        "colab": {
          "base_uri": "https://localhost:8080/"
        },
        "id": "vA8P7o_1mfWe",
        "outputId": "aca051cf-5dec-44db-8be1-22e59a0906fb"
      },
      "execution_count": 4,
      "outputs": [
        {
          "output_type": "stream",
          "name": "stdout",
          "text": [
            "'Hay 7 pruebas de idioma'\n"
          ]
        }
      ]
    },
    {
      "cell_type": "code",
      "source": [
        "def prueba_no_presencial():\n",
        "  dicta= requests.get(\"https://fp.josedomingo.org/lmgs/u05/ej2.json\")\n",
        "  texto= json.loads(dicta.text)\n",
        "\n",
        "  lista_1=[]\n",
        "  lista_2=[]\n",
        "  for i in texto:\n",
        "    if i.get(\"TipoFormacion\")==\"NoPresencial\":\n",
        "      lista_1.append(i)\n",
        "      for j in lista_1:\n",
        "        pprint(j.get(\"URL\"))\n",
        "  \n",
        "  for a in texto:\n",
        "    if a.get(\"TipoFormacion\")==\"No Presencial\":\n",
        "      lista_2.append(a)\n",
        "      for p in lista_2:\n",
        "        pprint(p.get(\"URL\"))\n",
        "prueba_no_presencial()"
      ],
      "metadata": {
        "colab": {
          "base_uri": "https://localhost:8080/"
        },
        "id": "R0s5ejj-mipG",
        "outputId": "9902256c-32ca-40f4-9b6c-d8369fc2191c"
      },
      "execution_count": 5,
      "outputs": [
        {
          "output_type": "stream",
          "name": "stdout",
          "text": [
            "'https://sede.fg.ull.es/es/idioma/detalle/A15050163/aleman-prueba-de-nivel-para-cursos-segundo-cuatrimestre'\n",
            "'https://sede.fg.ull.es/es/idioma/detalle/A15050167/espa-ol-prueba-de-nivel-para-cursos-segundo-cuatrimestre'\n"
          ]
        }
      ]
    },
    {
      "cell_type": "code",
      "source": [
        "lista2 = []\n",
        "def horas():\n",
        "  response = requests.get(\"https://fp.josedomingo.org/lmgs/u05/ej2.json\")\n",
        "  pendientes=json.loads(response.text)\n",
        "  for i in pendientes:\n",
        "    if i.get(\"Horas\") >= 2:\n",
        "      lista2.append(i)\n",
        "      pprint(i.get(\"Titulo\"))\n",
        "horas()"
      ],
      "metadata": {
        "colab": {
          "base_uri": "https://localhost:8080/"
        },
        "id": "Of3dtqcCml6u",
        "outputId": "a5a7c6e2-63ec-4474-d064-c2c8680b9e54"
      },
      "execution_count": 6,
      "outputs": [
        {
          "output_type": "stream",
          "name": "stdout",
          "text": [
            "'Alemán - Prueba de nivel - Para cursos segundo cuatrimestre'\n",
            "'Español - Prueba de nivel - Para cursos segundo cuatrimestre'\n",
            "('Inglés - Prueba de nivel - para cursos de Inglés para la Docencia y '\n",
            " 'preparatorio de GESE Trinity')\n",
            "'Inglés - Prueba de nivel - Para cursos segundo cuatrimestre'\n",
            "'Italiano - Prueba de nivel - Para cursos segundo cuatrimestre'\n"
          ]
        }
      ]
    },
    {
      "cell_type": "code",
      "source": [
        "#Recibe el código de la prueba “ID” y muestra su título y profesores\n",
        "lista3 = []\n",
        "def codigo():\n",
        "  response = requests.get(\"https://fp.josedomingo.org/lmgs/u05/ej2.json\")\n",
        "  pendientes=json.loads(response.text)\n",
        "  entrada = str(input())\n",
        "  for i in pendientes:\n",
        "    if entrada==i.get(\"ID\"):\n",
        "      pprint(i.get(\"Titulo\"))\n",
        "      pprint(i.get(\"Profesorado\"))\n",
        "      lista3.append(i)\n",
        "      \n",
        "codigo()"
      ],
      "metadata": {
        "colab": {
          "base_uri": "https://localhost:8080/"
        },
        "id": "OS9R_1Swmodm",
        "outputId": "869c6618-f162-4f4e-e3bd-b6661e17f017"
      },
      "execution_count": 9,
      "outputs": [
        {
          "name": "stdout",
          "output_type": "stream",
          "text": [
            "2\n"
          ]
        }
      ]
    },
    {
      "cell_type": "code",
      "source": [
        "import json\n",
        "import requests\n",
        "from pprint import pprint\n",
        "\n",
        "lista4 = []\n",
        "#Crear un archivo “.json” con la información: \n",
        "#\"Título y sus profesores. \n",
        "#Luego validar el texto en https://jsonlint.com/, agregar imagen validada al archivo.ipynb y subir al repositorio grupal.\n",
        "dictado = {}\n",
        "def titulo_profesores():\n",
        "  response = requests.get(\"https://fp.josedomingo.org/lmgs/u05/ej2.json\")\n",
        "  pendientes=json.loads(response.text)\n",
        "  for i in pendientes:\n",
        "    variable1 = i.get(\"Profesorado\")\n",
        "    variable2 = i.get(\"Titulo\")\n",
        "    json_object3 = (variable1,variable2)\n",
        "    pprint(json_object3)\n",
        "\n",
        "titulo_profesores()"
      ],
      "metadata": {
        "colab": {
          "base_uri": "https://localhost:8080/"
        },
        "id": "dqFaRVi3mosp",
        "outputId": "b6c22471-334a-4b6b-8d46-335a409face7"
      },
      "execution_count": 10,
      "outputs": [
        {
          "output_type": "stream",
          "name": "stdout",
          "text": [
            "([{'$id': '2', 'NombreCompleto': 'Reinhard Dlugay'}],\n",
            " 'Alemán - Prueba de nivel - Para cursos segundo cuatrimestre')\n",
            "([{'$id': '4', 'NombreCompleto': 'Beatriz Hernández Bravo'}],\n",
            " 'Español - Prueba de nivel - Para cursos segundo cuatrimestre')\n",
            "([{'$id': '6', 'NombreCompleto': 'Marie-Morgane Le Folgoc'}],\n",
            " 'Francés - Prueba de nivel - Para cursos segundo cuatrimestre')\n",
            "([{'$id': '8', 'NombreCompleto': 'María Luisa Capón Mouriz'}],\n",
            " 'Inglés - Prueba de nivel - para cursos de Inglés para la Docencia y '\n",
            " 'preparatorio de GESE Trinity')\n",
            "([{'$id': '10', 'NombreCompleto': 'María Luisa Capón Mouriz'},\n",
            "  {'$id': '11', 'NombreCompleto': 'Richard James Murison'},\n",
            "  {'$id': '12', 'NombreCompleto': 'María Isabel Rodríguez Rodríguez'},\n",
            "  {'$id': '13', 'NombreCompleto': 'Beatriz Freire Betancor'},\n",
            "  {'$id': '14', 'NombreCompleto': 'Peggy Gerd Henriksson Carlsson'},\n",
            "  {'$id': '15',\n",
            "   'NombreCompleto': 'Eva Miriam Amaral Ribeiro Sampaio de Andrade'},\n",
            "  {'$id': '16', 'NombreCompleto': 'Marta María González Orta'}],\n",
            " 'Inglés - Prueba de nivel - Para cursos segundo cuatrimestre')\n",
            "([{'$id': '18', 'NombreCompleto': 'Clive Tyrell'}],\n",
            " 'Inglés - Prueba de nivel - Para preparatorios del FCE/CAE/CPE/IELTS')\n",
            "([{'$id': '20', 'NombreCompleto': 'Nicola Cataldo'}],\n",
            " 'Italiano - Prueba de nivel - Para cursos segundo cuatrimestre')\n"
          ]
        }
      ]
    }
  ]
}