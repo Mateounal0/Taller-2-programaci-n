{
  "nbformat": 4,
  "nbformat_minor": 0,
  "metadata": {
    "colab": {
      "provenance": []
    },
    "kernelspec": {
      "name": "python3",
      "display_name": "Python 3"
    },
    "language_info": {
      "name": "python"
    }
  },
  "cells": [
    {
      "cell_type": "code",
      "execution_count": null,
      "metadata": {
        "colab": {
          "base_uri": "https://localhost:8080/"
        },
        "id": "hZUqnShpERtG",
        "outputId": "e1b3821a-3f1e-43e1-d9fc-c5ab6516a6c0"
      },
      "outputs": [
        {
          "output_type": "stream",
          "name": "stdout",
          "text": [
            "[5, 8, 10]\n",
            "*****\n",
            "********\n",
            "**********\n"
          ]
        }
      ],
      "source": [
        "# primer ejercicio\n",
        "datos = ([5,8,10])\n",
        "print(datos)\n",
        "\n",
        "def mostrar(datos):\n",
        "  contador = len(datos)\n",
        "  indice = 0\n",
        "  while contador > 0:\n",
        "    print(\"*\" * datos[indice])\n",
        "    indice += 1\n",
        "    contador -= 1\n",
        "\n",
        "mostrar(datos)\n"
      ]
    },
    {
      "cell_type": "code",
      "source": [
        "# segundo ejercicio\n",
        "lista = [\"1\",\"1,2\",\"1,2,3,\",\"1,2,3,4\"]\n",
        "\n",
        "def longer_long(lista):\n",
        "  mas_larga = \"\"\n",
        "  for i in lista:\n",
        "    if len(i) > len(mas_larga):\n",
        "      mas_larga = i \n",
        "\n",
        "  return mas_larga\n",
        "\n",
        "print(longer_long(lista))\n",
        "\n",
        "\n",
        "   "
      ],
      "metadata": {
        "colab": {
          "base_uri": "https://localhost:8080/"
        },
        "id": "kNa9cHACEbay",
        "outputId": "3127aa67-b083-4708-f4e8-b521dcc18a75"
      },
      "execution_count": null,
      "outputs": [
        {
          "output_type": "stream",
          "name": "stdout",
          "text": [
            "1,2,3,4\n"
          ]
        }
      ]
    },
    {
      "cell_type": "code",
      "source": [
        "# tercer ejercicio\n",
        "lista = \"lista\"\n",
        "n = 0\n",
        "def filt_words(lista,n):\n",
        "  lista = [\"A\",\"B\",\"C\",\"D\",\"E\",\"F\",\"G\",\"H\",\"I\",\"J\",\"K\",\"L\",\"M\",\"N\",\"O\",\"P\",\"Q\",\"R\",\"S\",\"T\",\"U\",\"V\",\"X\",\"Y\",\"Z\"]\n",
        "  contador = 0\n",
        "  cadena = str(input(\"ingresar una cadena de texto\"))\n",
        "  for i in lista:\n",
        "    for j in cadena:\n",
        "      if i == j:\n",
        "        contador += 1 \n",
        "  print(contador)\n",
        "\n",
        "filt_words(lista, n)\n",
        "\n",
        "  \n"
      ],
      "metadata": {
        "colab": {
          "base_uri": "https://localhost:8080/"
        },
        "id": "ppgZribYQ3Lz",
        "outputId": "74b744c5-350b-4785-c801-a72592d64feb"
      },
      "execution_count": null,
      "outputs": [
        {
          "output_type": "stream",
          "name": "stdout",
          "text": [
            "ingresar una cadena de textoMMMM\n",
            "4\n"
          ]
        }
      ]
    },
    {
      "cell_type": "code",
      "source": [
        "# cuarto ejercicio\n",
        "numeroBin = int(5)\n",
        "def aDecimal(numeroBin):\n",
        "  decimal = 0\n",
        "  numeroBin = \"01110\"\n",
        "  decimal = int(numeroBin, base=2)\n",
        "  return decimal\n",
        "aDecimal(numeroBin)"
      ],
      "metadata": {
        "colab": {
          "base_uri": "https://localhost:8080/"
        },
        "id": "IOn4YAvIWpek",
        "outputId": "10848ae4-4415-4f97-a444-e37cf30b2aa9"
      },
      "execution_count": null,
      "outputs": [
        {
          "output_type": "execute_result",
          "data": {
            "text/plain": [
              "14"
            ]
          },
          "metadata": {},
          "execution_count": 106
        }
      ]
    },
    {
      "cell_type": "code",
      "source": [
        "# quinto ejercicio\n",
        "def contar_vocales(cadena):\n",
        "    cadena = \"la tierra gira alrededor del sol\"\n",
        "    contador = 0\n",
        "    for i in cadena:\n",
        "      if i == \"a\":\n",
        "        contador += 1\n",
        "      elif i == \"e\":\n",
        "        contador += 1\n",
        "      elif i == \"i\":\n",
        "        contador += 1\n",
        "      elif i == \"o\":\n",
        "        contador += 1\n",
        "      elif i == \"u\":\n",
        "        contador += 1\n",
        "    print(contador)\n",
        "\n",
        "contar_vocales(cadena=\"hola\")"
      ],
      "metadata": {
        "colab": {
          "base_uri": "https://localhost:8080/"
        },
        "id": "ZDCHBOoqbFc1",
        "outputId": "0cd1b70b-2464-4596-9f43-1a9126fa64cd"
      },
      "execution_count": null,
      "outputs": [
        {
          "output_type": "stream",
          "name": "stdout",
          "text": [
            "12\n"
          ]
        }
      ]
    },
    {
      "cell_type": "code",
      "source": [
        "# sexto ejercicio\n",
        "def es_bisiesto():\n",
        "  año_bisiesto = int(input(\"ingresar un año bisiesto\"))\n",
        "  if año_bisiesto % 4 == 0:\n",
        "    return True\n",
        "  elif año_bisiesto % 400 == 0:\n",
        "    return True\n",
        "  elif año_bisiesto % 100 != 0:\n",
        "    return False\n",
        "\n",
        "print((\"¿el año es bisiesto? \" + str(es_bisiesto())))"
      ],
      "metadata": {
        "colab": {
          "base_uri": "https://localhost:8080/"
        },
        "id": "NNArJjK5cu7f",
        "outputId": "51d5e007-a629-477d-b149-8f164f9c2081"
      },
      "execution_count": null,
      "outputs": [
        {
          "output_type": "stream",
          "name": "stdout",
          "text": [
            "ingresar un año bisiesto2023\n",
            "¿el año es bisiesto? False\n"
          ]
        }
      ]
    },
    {
      "cell_type": "code",
      "source": [
        "# septimo ejercicio\n",
        "def rim(uno,dos):\n",
        "  uno = str(input(\"escriba la primera palabra\"))\n",
        "  dos = str(input(\"escriba la segunda palabra\"))\n",
        "  if(uno[-3:] == dos[-3:]):\n",
        "    print(\"riman\")\n",
        "\n",
        "  elif(uno[-2:] == dos[-2:]):\n",
        "    print(\"riman un poco\")\n",
        "\n",
        "  else:\n",
        "    return \"no riman\"\n",
        "\n",
        "rim(uno=\"hola\", dos=\"adios\")"
      ],
      "metadata": {
        "colab": {
          "base_uri": "https://localhost:8080/",
          "height": 70
        },
        "id": "4TeNkCMGmAth",
        "outputId": "b65357dd-d46e-49a9-9d59-ad9866016089"
      },
      "execution_count": null,
      "outputs": [
        {
          "name": "stdout",
          "output_type": "stream",
          "text": [
            "escriba la primera palabra american \n",
            "escriba la segunda palabra day\n"
          ]
        },
        {
          "output_type": "execute_result",
          "data": {
            "text/plain": [
              "'no riman'"
            ],
            "application/vnd.google.colaboratory.intrinsic+json": {
              "type": "string"
            }
          },
          "metadata": {},
          "execution_count": 187
        }
      ]
    },
    {
      "cell_type": "code",
      "source": [
        "# octavo ejercicio\n",
        "def calculo (dinero, inte, cant_anos):\n",
        " dinero = float(input(\"inserte aqui su capital en dolares con el que cuenta actualmente\"))\n",
        " inte = float(input(\"la tasa de interes que se cobran\"))\n",
        " cant_anos = float(input(\"ingrese el numero de años\"))\n",
        " x = dinero*(1+inte/100)**cant_anos\n",
        " return x\n",
        "\n",
        "print(\"el capital convertido a la aplicacion de intereses cada año sera:\",str(calculo(dinero=1, inte=2, cant_anos=3)))\n",
        "print(\"gracias por su confianza que tenga un buen dia\")\n"
      ],
      "metadata": {
        "colab": {
          "base_uri": "https://localhost:8080/"
        },
        "id": "7vefb5Icpd3j",
        "outputId": "34adf162-7332-4bb7-d3b1-117f2f54076e"
      },
      "execution_count": null,
      "outputs": [
        {
          "output_type": "stream",
          "name": "stdout",
          "text": [
            "inserte aqui su capital en dolares con el que cuenta actualmente10\n",
            "la tasa de interes que se cobran20\n",
            "ingrese el numero de años30\n",
            "el capital convertido a la aplicacion de intereses cada año sera: 2373.7631379976956\n",
            "gracias por su confianza que tenga un buen dia\n"
          ]
        }
      ]
    },
    {
      "cell_type": "code",
      "source": [
        "#noveno ejercicio\n",
        "print(\"digite un numero del 0 al 100\")\n",
        "numero = int(input())\n",
        "tabla = 0\n",
        "if numero > 0 and numero < 100:\n",
        "  for i in range(0, numero+1, 1):\n",
        "    tabla = numero * i\n",
        "    print(f\"{numero}*{i}={tabla}\")\n",
        "else:\n",
        "  print(\"el numero que digito no es el correcto\")"
      ],
      "metadata": {
        "colab": {
          "base_uri": "https://localhost:8080/"
        },
        "id": "o1HJnZxOiRio",
        "outputId": "910a888c-00e1-48bf-a1db-d4efe58b8e38"
      },
      "execution_count": null,
      "outputs": [
        {
          "output_type": "stream",
          "name": "stdout",
          "text": [
            "digite un numero del 0 al 100\n",
            "20\n",
            "20*0=0\n",
            "20*1=20\n",
            "20*2=40\n",
            "20*3=60\n",
            "20*4=80\n",
            "20*5=100\n",
            "20*6=120\n",
            "20*7=140\n",
            "20*8=160\n",
            "20*9=180\n",
            "20*10=200\n",
            "20*11=220\n",
            "20*12=240\n",
            "20*13=260\n",
            "20*14=280\n",
            "20*15=300\n",
            "20*16=320\n",
            "20*17=340\n",
            "20*18=360\n",
            "20*19=380\n",
            "20*20=400\n"
          ]
        }
      ]
    },
    {
      "cell_type": "code",
      "source": [
        "lista = [1,2,3]\n",
        "def arreglo(arreglo):\n",
        "   arreglo = ([1,11,4])\n",
        "   contador = 0\n",
        "   for i in arreglo:\n",
        "     for j in arreglo:\n",
        "        if arreglo[i] > 0:\n",
        "           return True\n",
        "        if arreglo[i] < 0:\n",
        "          return False\n",
        "\n",
        "arreglo(lista)\n",
        "      "
      ],
      "metadata": {
        "colab": {
          "base_uri": "https://localhost:8080/"
        },
        "id": "ImiyI_NDYIAo",
        "outputId": "3776f605-365a-471e-feae-756299117a56"
      },
      "execution_count": null,
      "outputs": [
        {
          "output_type": "execute_result",
          "data": {
            "text/plain": [
              "True"
            ]
          },
          "metadata": {},
          "execution_count": 127
        }
      ]
    },
    {
      "cell_type": "code",
      "source": [
        "string = \"hola\"\n",
        "def bienvenido(string):\n",
        "  string = ([\"bienvenido\"])\n",
        "  nombre = input(\"ingrese el nombre de usuario\")\n",
        "  string.append(nombre)\n",
        "  return string\n",
        "\n",
        "bienvenido(string)\n",
        "\n"
      ],
      "metadata": {
        "colab": {
          "base_uri": "https://localhost:8080/"
        },
        "id": "745P_pACgcHD",
        "outputId": "20e565b9-48ed-429b-a40b-fc28c4f098c7"
      },
      "execution_count": null,
      "outputs": [
        {
          "name": "stdout",
          "output_type": "stream",
          "text": [
            "ingrese el nombre de usuariojuan camilo\n"
          ]
        },
        {
          "output_type": "execute_result",
          "data": {
            "text/plain": [
              "['bienvenido', 'juan camilo']"
            ]
          },
          "metadata": {},
          "execution_count": 132
        }
      ]
    },
    {
      "cell_type": "code",
      "source": [
        "arreglo = ([1,2,3])\n",
        "def arreglo(arreglo):\n",
        "  arreglo1 = ([1,-2,3],[-4,5,6],[7,8,9])\n",
        "  arreglo2 = ([1,2,3],[4,5,6],[7,8,9])\n",
        "  for i in range(len(arreglo1)):\n",
        "    for j in range(len(arreglo1[i])):\n",
        "      print(arreglo1[i][j])\n",
        "      if arreglo1[i][j] < 5:\n",
        "        print(\"el numero es negativo\")\n",
        "arreglo(arreglo)\n"
      ],
      "metadata": {
        "colab": {
          "base_uri": "https://localhost:8080/"
        },
        "id": "8PJHzSd7i8f6",
        "outputId": "683a9af0-843e-4412-aa0e-39f09d0b3a3b"
      },
      "execution_count": null,
      "outputs": [
        {
          "output_type": "stream",
          "name": "stdout",
          "text": [
            "1\n",
            "el numero es negativo\n",
            "-2\n",
            "el numero es negativo\n",
            "3\n",
            "el numero es negativo\n",
            "-4\n",
            "el numero es negativo\n",
            "5\n",
            "6\n",
            "7\n",
            "8\n",
            "9\n"
          ]
        }
      ]
    },
    {
      "cell_type": "code",
      "source": [
        "import matplotlib.pyplot as plt\n",
        "\n",
        "datos = [1,2,3,4,5,6,7,8,9,10]\n",
        "años = [2000,2001,2002,2003,2004,2005,2006,2007,2008,2009]\n",
        "plt.plot(años, datos, color=\"red\", linestyle=\"-\", marker=\"o\", label=\"grafica 1\")\n",
        "plt.legend()\n",
        "plt.xlabel(\"dias\")\n",
        "plt.ylabel(\"años\")\n",
        "\n",
        "plt.show()"
      ],
      "metadata": {
        "colab": {
          "base_uri": "https://localhost:8080/",
          "height": 279
        },
        "id": "bdbbj64hnikw",
        "outputId": "d9022646-9b2b-4b85-e5f6-f0771cc85d03"
      },
      "execution_count": null,
      "outputs": [
        {
          "output_type": "display_data",
          "data": {
            "text/plain": [
              "<Figure size 432x288 with 1 Axes>"
            ],
            "image/png": "[encoded data removed]"
          },
          "metadata": {
            "needs_background": "light"
          }
        }
      ]
    }
  ]
}