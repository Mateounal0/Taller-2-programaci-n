{
  "nbformat": 4,
  "nbformat_minor": 0,
  "metadata": {
    "colab": {
      "provenance": []
    },
    "kernelspec": {
      "name": "python3",
      "display_name": "Python 3"
    },
    "language_info": {
      "name": "python"
    }
  },
  "cells": [
    {
      "cell_type": "markdown",
      "metadata": {
        "id": "6mYeh2-zj1SM"
      },
      "source": [
        "##Encuentre la posición inicial y final de el segmento \"problema\" en el \"target\", esta secuencia se encuentra dividida por grupos en el [enlace](https://docs.google.com/spreadsheets/d/1wAv5Itg8lRX9tCmnV0Jm4trc-aXH9hkF9GFUncWizxg/edit#gid=1780367627)\n",
        "\n",
        "* Desarrollar la actividad en grupos\n",
        "* Comentar su codigo '#'\n",
        "* use la declaración de funciones\n",
        "* usar la palabra recervada with en la lectura del archivo\n",
        "* retornar la posición inicial y final, en una tupla\n",
        "* Subir .ipynb al repositorio de GitHub del estudiante seleccionado por grupo Nombre: Lab_bioinf-G1.ipynb\n"
      ]
    },
    {
      "cell_type": "code",
      "source": [
        "ejemplo='actctatatctctactgtatatch'\n",
        "print(len(ejemplo))\n",
        "print(ejemplo.find('h'))#su algoritmo debe trabajar suando declaración de funciones\n",
        "#su diseño debe aplicar este formato\n",
        "#> pos_in_fi=funcion_creada_por_grupo1(target,problema)\n",
        "#> print(pos_in_fi)---->por consola imprimira ----> (28,67)#ejemplo"
      ],
      "metadata": {
        "colab": {
          "base_uri": "https://localhost:8080/"
        },
        "id": "9Tp0Ji-g6rJV",
        "outputId": "3b607a30-adfb-4821-f745-2130fdf82f53"
      },
      "execution_count": null,
      "outputs": [
        {
          "output_type": "stream",
          "name": "stdout",
          "text": [
            "24\n",
            "23\n"
          ]
        }
      ]
    },
    {
      "cell_type": "markdown",
      "source": [
        "Solución al laboratorio"
      ],
      "metadata": {
        "id": "tjI9AMdWK1rb"
      }
    },
    {
      "cell_type": "code",
      "source": [
        "from google.colab import drive\n",
        "drive.mount('/content/drive')"
      ],
      "metadata": {
        "colab": {
          "base_uri": "https://localhost:8080/"
        },
        "id": "NcXMHJp2Vp7s",
        "outputId": "5a313788-afdc-4a52-81b1-6bdc2ef23fc5"
      },
      "execution_count": 35,
      "outputs": [
        {
          "output_type": "stream",
          "name": "stdout",
          "text": [
            "Drive already mounted at /content/drive; to attempt to forcibly remount, call drive.mount(\"/content/drive\", force_remount=True).\n"
          ]
        }
      ]
    },
    {
      "cell_type": "code",
      "source": [
        "with open('/content/drive/MyDrive/Programación de computadores/sequence_Covid-19.fasta') as f: #lectura del archivo\n",
        "  lines = f.readlines() #la funcion readline nos convierte lo que esta adentro del arcchivo en lista\n",
        "  secuence='' #Acá guardaremos nuestra lista pero con string\n",
        "for l in lines[1:]: #empezamos desde el segundo valor de nuestra lista ya que el primero no hace parte de la secuencia\n",
        "  secuence+=l[:-1] #la lista nos aparece con saltos de linea entonces eliminamos ese ultimo caracter de nuestro string\n",
        "def solucion(problema):\n",
        "  problema=\"TAATAGCTTCTTAGGAGAATGACAAAA\" #Secuencia a buscar de nuestro grupo\n",
        "  inicio = secuence.index(problema) #secuencia inicial\n",
        "  final = inicio + len(problema) #secuencia final\n",
        "  busc=(inicio, final) #busc será la tupla \n",
        "  return busc\n",
        "print(busc) #imprimimos \"busc\" que son las coordenadas de la posición inicial y final"
      ],
      "metadata": {
        "colab": {
          "base_uri": "https://localhost:8080/"
        },
        "id": "MFyk0LPUOz0w",
        "outputId": "763b0981-93d7-4599-bcd9-85a89682f47f"
      },
      "execution_count": 40,
      "outputs": [
        {
          "output_type": "stream",
          "name": "stdout",
          "text": [
            "(29847, 29874)\n"
          ]
        }
      ]
    },
    {
      "cell_type": "code",
      "source": [
        "a=secuence.find(problema) #para confirmar que este bien nuestro codigo los probamos con la función find\n",
        "print(a)"
      ],
      "metadata": {
        "colab": {
          "base_uri": "https://localhost:8080/"
        },
        "id": "jpqbzsSDVCii",
        "outputId": "b99e367c-e762-4822-f642-818d8af05731"
      },
      "execution_count": 38,
      "outputs": [
        {
          "output_type": "stream",
          "name": "stdout",
          "text": [
            "29847\n"
          ]
        }
      ]
    }
  ]
}