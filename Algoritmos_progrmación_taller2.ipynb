{
  "nbformat": 4,
  "nbformat_minor": 0,
  "metadata": {
    "colab": {
      "provenance": [],
      "collapsed_sections": []
    },
    "kernelspec": {
      "name": "python3",
      "display_name": "Python 3"
    },
    "language_info": {
      "name": "python"
    }
  },
  "cells": [
    {
      "cell_type": "code",
      "execution_count": 2,
      "metadata": {
        "id": "msY0x64cM3Vq",
        "colab": {
          "base_uri": "https://localhost:8080/"
        },
        "outputId": "42877b9a-ec0c-4079-bbde-23f947fb2c39"
      },
      "outputs": [
        {
          "output_type": "stream",
          "name": "stdout",
          "text": [
            "Digite un número para determinar si es par o impar: 13\n",
            "El número es impar.\n"
          ]
        }
      ],
      "source": [
        "#Escriba un algoritmo que dado un número entero, indique si este valor es par o impar.(recordar Todos los operadores aritméticos [+, -, *, /, %MOD])\n",
        "#Ejemplo Ejecución:\n",
        "\t#>escriba un número entero\n",
        "#>\t8\n",
        "#>Su número es Par\n",
        "\n",
        "numero=0 #inicializar variable\n",
        "i=2 #asignar variable\n",
        "numero=int(input(\"Digite un número para determinar si es par o impar: \")) #Solicitar número en pantalla y guardar en la variable numero\n",
        "if (numero % i == 0): #Condicional si el número al dividirlo entre 2 da residuo de 0, es número par\n",
        "  print(\"El número es par.\") #Imprimir el texto si la condición anterior se cumple\n",
        "else: #(Si el condicional no se cumple) es un número impar\n",
        "   print(\"El número es impar.\") #Imprimir el texto si la segunda condición se cumple"
      ]
    },
    {
      "cell_type": "code",
      "source": [
        "#Escriba un algoritmo que pida un número y también un porcentaje entre 0 y 100 que puede ser decimal,  \n",
        "#el algoritmo debe entregar el cálculo del porcentaje del primer número, Si el usuario ingresa un dato \n",
        "#fuera del rango  (0 a 100), debe mostrar un error y volver a pedir el porcentaje.\n",
        "\n",
        "#Ejemplo 1 Ejecución:\n",
        "\t#>escriba un número cualquiera\n",
        "#>\t250\n",
        "#>Escriba el porcentaje a calcular\n",
        "#>\t20.5\n",
        "#>El 20.5 % de 250 es : 51.25\n",
        "\n",
        "numero=0 #inicializar variable\n",
        "porcentaje=0 #inicializar variable\n",
        "proceso=0 #inicializar variable\n",
        "numero=int(input(\"Ingresar un numero: \")) #Solicitar número en pantalla y guardar en la variable numero\n",
        "porcentaje=float(input(\"Ingresar un porcentaje: \")) #Solicitar porcentaje en pantalla y guardar en la variable porcentaje\n",
        "while (porcentaje < 0 or porcentaje > 100): #Iniciar ciclo con la siguiente condición 0<porcentaje<100\n",
        "  print(\"Error.\") #Imprimir error si la condición no se cumple\n",
        "  porcentaje = float(input(\"Ingresar un porcentaje: \")) #Al no cumplir la condición, se solicita nuevamente el porcentaje en pantalla y guardar en la variable porcentaje\n",
        "proceso = (numero * porcentaje)/100 #Realizar proceso para calcular el porcentaje\n",
        "print(proceso) #Imprimir el resultado del proceso anterior"
      ],
      "metadata": {
        "id": "dwmfI3JSSbGy",
        "colab": {
          "base_uri": "https://localhost:8080/"
        },
        "outputId": "a88096f1-43a4-4408-c5ee-3b80752a157c"
      },
      "execution_count": 3,
      "outputs": [
        {
          "output_type": "stream",
          "name": "stdout",
          "text": [
            "Ingresar un numero: 200\n",
            "Ingresar un porcentaje: 300\n",
            "Error.\n",
            "Ingresar un porcentaje: 500\n",
            "Error.\n",
            "Ingresar un porcentaje: 20\n",
            "40.0\n"
          ]
        }
      ]
    },
    {
      "cell_type": "code",
      "source": [
        "#Con base en el primer Ejercicio, si el número indicado es par, entregar todos los números pares entre el 0 y el número.\n",
        "\t#>escriba un número entero\n",
        "#>\t8\n",
        "#>Su número es Par y los números pares antes de el son:\n",
        "#>2,4,6\n",
        "\n",
        "numero=0 #inicializar variable\n",
        "i=2 #asignar variable\n",
        "numero=int(input(\"Digite un número para determinar si es par o impar: \")) #Solicitar número en pantalla y guardar en la variable numero\n",
        "if (numero % i == 0): #Condicional si el número al dividirlo entre 2 da residuo de 0, es número par\n",
        "  print(\"El número es par.\") #Imprimir el texto si la condición anterior se cumple\n",
        "  for i in range(0, numero+2, 2): #Ciclo For desde 0, hasta i=numero, incremento=2\n",
        "    print(\"Los números pares son:\",i) #Imprimir números pares desde 0 hasta el número\n",
        "else: #(Si el condicional no se cumple) es un número impar\n",
        "   print(\"El número es impar.\") #Imprimir el texto si la segunda condición se cumple"
      ],
      "metadata": {
        "id": "O9GH3utnN-ce",
        "colab": {
          "base_uri": "https://localhost:8080/"
        },
        "outputId": "175c6749-656b-4b1a-ee2e-9d297b9d2b9a"
      },
      "execution_count": 6,
      "outputs": [
        {
          "output_type": "stream",
          "name": "stdout",
          "text": [
            "Digite un número para determinar si es par o impar: 7\n",
            "El número es impar.\n"
          ]
        }
      ]
    },
    {
      "cell_type": "code",
      "source": [
        "#Escriba un algoritmo que dado un número entero, entregue la suma de todos los números entre el 0 y el número dado.\n",
        "#Ejemplo Ejecución:\n",
        "\t#3>escriba un número entero cualquiera:\n",
        "#>\t5\n",
        "#>La sumatoria de 0 a n es:\n",
        "#>1+2+3+4+5=15 \n",
        "\n",
        "a=0 #inicializar variable\n",
        "b=0 #inicializar variable\n",
        "a= int(input(\"Escriba un número entero cualquiera: \")) #Solicitar número en pantalla y guardar en la variable a\n",
        "for i in range(0, a+1, 1): #Ciclo For desde i=0, hasta i=a+1, incremento i=1\n",
        "  print(i) #Imprimir en pantalla los números desde 0 hasta el número de 1 en 1\n",
        "  b += i #Proceso para sumar todos los números que pasen por el ciclo\n",
        "print(\"La suma es:\",b)"
      ],
      "metadata": {
        "id": "lzSsK9cbNO-G"
      },
      "execution_count": null,
      "outputs": []
    }
  ]
}